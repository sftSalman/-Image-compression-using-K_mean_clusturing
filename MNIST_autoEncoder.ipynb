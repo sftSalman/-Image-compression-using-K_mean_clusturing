{
  "nbformat": 4,
  "nbformat_minor": 0,
  "metadata": {
    "colab": {
      "provenance": [],
      "authorship_tag": "ABX9TyOLZDbLIxNYwBv18DZPVIF/",
      "include_colab_link": true
    },
    "kernelspec": {
      "name": "python3",
      "display_name": "Python 3"
    },
    "language_info": {
      "name": "python"
    },
    "accelerator": "GPU",
    "widgets": {
      "application/vnd.jupyter.widget-state+json": {
        "33bcbc90b4634d7293ef21b7a69be484": {
          "model_module": "@jupyter-widgets/controls",
          "model_name": "HBoxModel",
          "model_module_version": "1.5.0",
          "state": {
            "_dom_classes": [],
            "_model_module": "@jupyter-widgets/controls",
            "_model_module_version": "1.5.0",
            "_model_name": "HBoxModel",
            "_view_count": null,
            "_view_module": "@jupyter-widgets/controls",
            "_view_module_version": "1.5.0",
            "_view_name": "HBoxView",
            "box_style": "",
            "children": [
              "IPY_MODEL_e0687c6e6e9142bc82dd89c522dd5e5e",
              "IPY_MODEL_22e8501b0396485db60570fb9a54befe",
              "IPY_MODEL_6b553ae622e14da28f353dc952041912"
            ],
            "layout": "IPY_MODEL_1495035e2b664385b4ed287f2f39e94e"
          }
        },
        "e0687c6e6e9142bc82dd89c522dd5e5e": {
          "model_module": "@jupyter-widgets/controls",
          "model_name": "HTMLModel",
          "model_module_version": "1.5.0",
          "state": {
            "_dom_classes": [],
            "_model_module": "@jupyter-widgets/controls",
            "_model_module_version": "1.5.0",
            "_model_name": "HTMLModel",
            "_view_count": null,
            "_view_module": "@jupyter-widgets/controls",
            "_view_module_version": "1.5.0",
            "_view_name": "HTMLView",
            "description": "",
            "description_tooltip": null,
            "layout": "IPY_MODEL_14f4e5def033444ca78f1734d42a3447",
            "placeholder": "​",
            "style": "IPY_MODEL_879a70f6fd064576b2f3a6e41bc8cd53",
            "value": "Dl Completed...: 100%"
          }
        },
        "22e8501b0396485db60570fb9a54befe": {
          "model_module": "@jupyter-widgets/controls",
          "model_name": "FloatProgressModel",
          "model_module_version": "1.5.0",
          "state": {
            "_dom_classes": [],
            "_model_module": "@jupyter-widgets/controls",
            "_model_module_version": "1.5.0",
            "_model_name": "FloatProgressModel",
            "_view_count": null,
            "_view_module": "@jupyter-widgets/controls",
            "_view_module_version": "1.5.0",
            "_view_name": "ProgressView",
            "bar_style": "success",
            "description": "",
            "description_tooltip": null,
            "layout": "IPY_MODEL_ba7a48ad4d7f484ab269cab8108c2a87",
            "max": 4,
            "min": 0,
            "orientation": "horizontal",
            "style": "IPY_MODEL_fb70c772d9854756929b2dc464a8eac0",
            "value": 4
          }
        },
        "6b553ae622e14da28f353dc952041912": {
          "model_module": "@jupyter-widgets/controls",
          "model_name": "HTMLModel",
          "model_module_version": "1.5.0",
          "state": {
            "_dom_classes": [],
            "_model_module": "@jupyter-widgets/controls",
            "_model_module_version": "1.5.0",
            "_model_name": "HTMLModel",
            "_view_count": null,
            "_view_module": "@jupyter-widgets/controls",
            "_view_module_version": "1.5.0",
            "_view_name": "HTMLView",
            "description": "",
            "description_tooltip": null,
            "layout": "IPY_MODEL_4302c547510a40abac4ca800adc447ec",
            "placeholder": "​",
            "style": "IPY_MODEL_77526f5e548b40a58c6f798b58492393",
            "value": " 4/4 [00:00&lt;00:00, 12.32 file/s]"
          }
        },
        "1495035e2b664385b4ed287f2f39e94e": {
          "model_module": "@jupyter-widgets/base",
          "model_name": "LayoutModel",
          "model_module_version": "1.2.0",
          "state": {
            "_model_module": "@jupyter-widgets/base",
            "_model_module_version": "1.2.0",
            "_model_name": "LayoutModel",
            "_view_count": null,
            "_view_module": "@jupyter-widgets/base",
            "_view_module_version": "1.2.0",
            "_view_name": "LayoutView",
            "align_content": null,
            "align_items": null,
            "align_self": null,
            "border": null,
            "bottom": null,
            "display": null,
            "flex": null,
            "flex_flow": null,
            "grid_area": null,
            "grid_auto_columns": null,
            "grid_auto_flow": null,
            "grid_auto_rows": null,
            "grid_column": null,
            "grid_gap": null,
            "grid_row": null,
            "grid_template_areas": null,
            "grid_template_columns": null,
            "grid_template_rows": null,
            "height": null,
            "justify_content": null,
            "justify_items": null,
            "left": null,
            "margin": null,
            "max_height": null,
            "max_width": null,
            "min_height": null,
            "min_width": null,
            "object_fit": null,
            "object_position": null,
            "order": null,
            "overflow": null,
            "overflow_x": null,
            "overflow_y": null,
            "padding": null,
            "right": null,
            "top": null,
            "visibility": null,
            "width": null
          }
        },
        "14f4e5def033444ca78f1734d42a3447": {
          "model_module": "@jupyter-widgets/base",
          "model_name": "LayoutModel",
          "model_module_version": "1.2.0",
          "state": {
            "_model_module": "@jupyter-widgets/base",
            "_model_module_version": "1.2.0",
            "_model_name": "LayoutModel",
            "_view_count": null,
            "_view_module": "@jupyter-widgets/base",
            "_view_module_version": "1.2.0",
            "_view_name": "LayoutView",
            "align_content": null,
            "align_items": null,
            "align_self": null,
            "border": null,
            "bottom": null,
            "display": null,
            "flex": null,
            "flex_flow": null,
            "grid_area": null,
            "grid_auto_columns": null,
            "grid_auto_flow": null,
            "grid_auto_rows": null,
            "grid_column": null,
            "grid_gap": null,
            "grid_row": null,
            "grid_template_areas": null,
            "grid_template_columns": null,
            "grid_template_rows": null,
            "height": null,
            "justify_content": null,
            "justify_items": null,
            "left": null,
            "margin": null,
            "max_height": null,
            "max_width": null,
            "min_height": null,
            "min_width": null,
            "object_fit": null,
            "object_position": null,
            "order": null,
            "overflow": null,
            "overflow_x": null,
            "overflow_y": null,
            "padding": null,
            "right": null,
            "top": null,
            "visibility": null,
            "width": null
          }
        },
        "879a70f6fd064576b2f3a6e41bc8cd53": {
          "model_module": "@jupyter-widgets/controls",
          "model_name": "DescriptionStyleModel",
          "model_module_version": "1.5.0",
          "state": {
            "_model_module": "@jupyter-widgets/controls",
            "_model_module_version": "1.5.0",
            "_model_name": "DescriptionStyleModel",
            "_view_count": null,
            "_view_module": "@jupyter-widgets/base",
            "_view_module_version": "1.2.0",
            "_view_name": "StyleView",
            "description_width": ""
          }
        },
        "ba7a48ad4d7f484ab269cab8108c2a87": {
          "model_module": "@jupyter-widgets/base",
          "model_name": "LayoutModel",
          "model_module_version": "1.2.0",
          "state": {
            "_model_module": "@jupyter-widgets/base",
            "_model_module_version": "1.2.0",
            "_model_name": "LayoutModel",
            "_view_count": null,
            "_view_module": "@jupyter-widgets/base",
            "_view_module_version": "1.2.0",
            "_view_name": "LayoutView",
            "align_content": null,
            "align_items": null,
            "align_self": null,
            "border": null,
            "bottom": null,
            "display": null,
            "flex": null,
            "flex_flow": null,
            "grid_area": null,
            "grid_auto_columns": null,
            "grid_auto_flow": null,
            "grid_auto_rows": null,
            "grid_column": null,
            "grid_gap": null,
            "grid_row": null,
            "grid_template_areas": null,
            "grid_template_columns": null,
            "grid_template_rows": null,
            "height": null,
            "justify_content": null,
            "justify_items": null,
            "left": null,
            "margin": null,
            "max_height": null,
            "max_width": null,
            "min_height": null,
            "min_width": null,
            "object_fit": null,
            "object_position": null,
            "order": null,
            "overflow": null,
            "overflow_x": null,
            "overflow_y": null,
            "padding": null,
            "right": null,
            "top": null,
            "visibility": null,
            "width": null
          }
        },
        "fb70c772d9854756929b2dc464a8eac0": {
          "model_module": "@jupyter-widgets/controls",
          "model_name": "ProgressStyleModel",
          "model_module_version": "1.5.0",
          "state": {
            "_model_module": "@jupyter-widgets/controls",
            "_model_module_version": "1.5.0",
            "_model_name": "ProgressStyleModel",
            "_view_count": null,
            "_view_module": "@jupyter-widgets/base",
            "_view_module_version": "1.2.0",
            "_view_name": "StyleView",
            "bar_color": null,
            "description_width": ""
          }
        },
        "4302c547510a40abac4ca800adc447ec": {
          "model_module": "@jupyter-widgets/base",
          "model_name": "LayoutModel",
          "model_module_version": "1.2.0",
          "state": {
            "_model_module": "@jupyter-widgets/base",
            "_model_module_version": "1.2.0",
            "_model_name": "LayoutModel",
            "_view_count": null,
            "_view_module": "@jupyter-widgets/base",
            "_view_module_version": "1.2.0",
            "_view_name": "LayoutView",
            "align_content": null,
            "align_items": null,
            "align_self": null,
            "border": null,
            "bottom": null,
            "display": null,
            "flex": null,
            "flex_flow": null,
            "grid_area": null,
            "grid_auto_columns": null,
            "grid_auto_flow": null,
            "grid_auto_rows": null,
            "grid_column": null,
            "grid_gap": null,
            "grid_row": null,
            "grid_template_areas": null,
            "grid_template_columns": null,
            "grid_template_rows": null,
            "height": null,
            "justify_content": null,
            "justify_items": null,
            "left": null,
            "margin": null,
            "max_height": null,
            "max_width": null,
            "min_height": null,
            "min_width": null,
            "object_fit": null,
            "object_position": null,
            "order": null,
            "overflow": null,
            "overflow_x": null,
            "overflow_y": null,
            "padding": null,
            "right": null,
            "top": null,
            "visibility": null,
            "width": null
          }
        },
        "77526f5e548b40a58c6f798b58492393": {
          "model_module": "@jupyter-widgets/controls",
          "model_name": "DescriptionStyleModel",
          "model_module_version": "1.5.0",
          "state": {
            "_model_module": "@jupyter-widgets/controls",
            "_model_module_version": "1.5.0",
            "_model_name": "DescriptionStyleModel",
            "_view_count": null,
            "_view_module": "@jupyter-widgets/base",
            "_view_module_version": "1.2.0",
            "_view_name": "StyleView",
            "description_width": ""
          }
        }
      }
    }
  },
  "cells": [
    {
      "cell_type": "markdown",
      "metadata": {
        "id": "view-in-github",
        "colab_type": "text"
      },
      "source": [
        "<a href=\"https://colab.research.google.com/github/sftSalman/-Image-compression-using-K_mean_clusturing/blob/main/MNIST_autoEncoder.ipynb\" target=\"_parent\"><img src=\"https://colab.research.google.com/assets/colab-badge.svg\" alt=\"Open In Colab\"/></a>"
      ]
    },
    {
      "cell_type": "code",
      "execution_count": 1,
      "metadata": {
        "id": "R_kJqimzsxGu"
      },
      "outputs": [],
      "source": [
        "import tensorflow as tf\n",
        "import tensorflow_datasets as tfds\n",
        "\n",
        "import numpy as np\n",
        "import matplotlib.pyplot as plt"
      ]
    },
    {
      "cell_type": "code",
      "source": [
        "def map_image(image, label):\n",
        "  \"\"\"Normalizes and flatten the images. Returns image as input and label.\"\"\"\n",
        "  image = tf.cast(image, dtype=tf.float32)\n",
        "  image /= 255.0\n",
        "  image = tf.reshape(image, shape=(784,))\n",
        "  return image, image"
      ],
      "metadata": {
        "id": "j22xVwLuu8hy"
      },
      "execution_count": 2,
      "outputs": []
    },
    {
      "cell_type": "code",
      "source": [
        "BATCH_SIZE = 128\n",
        "SHUFFLE_BUFFER_SIZE = 1024\n",
        "\n",
        "train_dataset = tfds.load(\"mnist\", as_supervised=True, split=\"train\")\n",
        "train_dataset = train_dataset.map(map_image)\n",
        "train_dataset = train_dataset.shuffle(SHUFFLE_BUFFER_SIZE).batch(BATCH_SIZE).repeat()\n",
        "\n",
        "test_dataset  = tfds.load(\"mnist\", as_supervised=True, split=\"test\")\n",
        "test_dataset  = test_dataset.map(map_image)\n",
        "test_dataset  = test_dataset.batch(BATCH_SIZE).repeat()"
      ],
      "metadata": {
        "colab": {
          "base_uri": "https://localhost:8080/",
          "height": 108,
          "referenced_widgets": [
            "33bcbc90b4634d7293ef21b7a69be484",
            "e0687c6e6e9142bc82dd89c522dd5e5e",
            "22e8501b0396485db60570fb9a54befe",
            "6b553ae622e14da28f353dc952041912",
            "1495035e2b664385b4ed287f2f39e94e",
            "14f4e5def033444ca78f1734d42a3447",
            "879a70f6fd064576b2f3a6e41bc8cd53",
            "ba7a48ad4d7f484ab269cab8108c2a87",
            "fb70c772d9854756929b2dc464a8eac0",
            "4302c547510a40abac4ca800adc447ec",
            "77526f5e548b40a58c6f798b58492393"
          ]
        },
        "id": "2-wyCInHvBkA",
        "outputId": "610025fb-ace6-40e2-d3cf-3335ab7e488c"
      },
      "execution_count": 3,
      "outputs": [
        {
          "output_type": "stream",
          "name": "stdout",
          "text": [
            "\u001b[1mDownloading and preparing dataset 11.06 MiB (download: 11.06 MiB, generated: 21.00 MiB, total: 32.06 MiB) to ~/tensorflow_datasets/mnist/3.0.1...\u001b[0m\n"
          ]
        },
        {
          "output_type": "display_data",
          "data": {
            "text/plain": [
              "Dl Completed...:   0%|          | 0/4 [00:00<?, ? file/s]"
            ],
            "application/vnd.jupyter.widget-view+json": {
              "version_major": 2,
              "version_minor": 0,
              "model_id": "33bcbc90b4634d7293ef21b7a69be484"
            }
          },
          "metadata": {}
        },
        {
          "output_type": "stream",
          "name": "stdout",
          "text": [
            "\u001b[1mDataset mnist downloaded and prepared to ~/tensorflow_datasets/mnist/3.0.1. Subsequent calls will reuse this data.\u001b[0m\n"
          ]
        }
      ]
    },
    {
      "cell_type": "code",
      "source": [
        "def simple_autoencoder(inputs):\n",
        "  \"\"\"Builds the encoder and decoder using Dense layers\"\"\"\n",
        "  encoder = tf.keras.layers.Dense(units=32, activation=\"relu\")(inputs)\n",
        "  decoder = tf.keras.layers.Dense(units=784, activation=\"sigmoid\")(encoder)\n",
        "  return encoder, decoder\n"
      ],
      "metadata": {
        "id": "bJipWt04voQ2"
      },
      "execution_count": 4,
      "outputs": []
    },
    {
      "cell_type": "code",
      "source": [
        "inputs = tf.keras.layers.Input(shape=(784,))"
      ],
      "metadata": {
        "id": "IxgHPKx0wGBS"
      },
      "execution_count": 5,
      "outputs": []
    },
    {
      "cell_type": "code",
      "source": [
        "encoder_output, decoder_output = simple_autoencoder(inputs)"
      ],
      "metadata": {
        "id": "kWn1iwODwKUl"
      },
      "execution_count": 8,
      "outputs": []
    },
    {
      "cell_type": "code",
      "source": [
        "#visualize its output later\n",
        "encoder_model = tf.keras.Model(inputs=inputs, outputs=encoder_output)"
      ],
      "metadata": {
        "id": "-186538LwkA3"
      },
      "execution_count": 10,
      "outputs": []
    },
    {
      "cell_type": "code",
      "source": [
        "autoencoder_model = tf.keras.Model(inputs=inputs, outputs=decoder_output)"
      ],
      "metadata": {
        "id": "zj3lGQbfwyMz"
      },
      "execution_count": 11,
      "outputs": []
    },
    {
      "cell_type": "code",
      "source": [
        "autoencoder_model = tf.keras.Model(inputs=inputs, outputs=decoder_output)"
      ],
      "metadata": {
        "id": "ytCfp-qAxAes"
      },
      "execution_count": 12,
      "outputs": []
    },
    {
      "cell_type": "code",
      "source": [
        "autoencoder_model.compile(\n",
        "    optimizer=tf.keras.optimizers.Adam(),\n",
        "    loss=\"binary_crossentropy\"\n",
        ")"
      ],
      "metadata": {
        "id": "7he2FhHbxLmR"
      },
      "execution_count": 13,
      "outputs": []
    },
    {
      "cell_type": "code",
      "source": [
        "train_steps = 60000 // BATCH_SIZE\n",
        "simple_auto_history = autoencoder_model.fit(train_dataset,\n",
        "                                            steps_per_epoch=train_steps,\n",
        "                                            epochs=25)"
      ],
      "metadata": {
        "colab": {
          "base_uri": "https://localhost:8080/"
        },
        "id": "i3HqbmlXxcJN",
        "outputId": "7a97882f-2833-4f1c-bccd-25cfcd92d0a5"
      },
      "execution_count": 14,
      "outputs": [
        {
          "output_type": "stream",
          "name": "stdout",
          "text": [
            "Epoch 1/25\n",
            "468/468 [==============================] - 10s 20ms/step - loss: 0.2295\n",
            "Epoch 2/25\n",
            "468/468 [==============================] - 6s 13ms/step - loss: 0.1429\n",
            "Epoch 3/25\n",
            "468/468 [==============================] - 6s 13ms/step - loss: 0.1194\n",
            "Epoch 4/25\n",
            "468/468 [==============================] - 6s 13ms/step - loss: 0.1075\n",
            "Epoch 5/25\n",
            "468/468 [==============================] - 6s 13ms/step - loss: 0.1011\n",
            "Epoch 6/25\n",
            "468/468 [==============================] - 6s 13ms/step - loss: 0.0975\n",
            "Epoch 7/25\n",
            "468/468 [==============================] - 6s 13ms/step - loss: 0.0958\n",
            "Epoch 8/25\n",
            "468/468 [==============================] - 6s 13ms/step - loss: 0.0948\n",
            "Epoch 9/25\n",
            "468/468 [==============================] - 6s 13ms/step - loss: 0.0944\n",
            "Epoch 10/25\n",
            "468/468 [==============================] - 6s 14ms/step - loss: 0.0941\n",
            "Epoch 11/25\n",
            "468/468 [==============================] - 6s 13ms/step - loss: 0.0938\n",
            "Epoch 12/25\n",
            "468/468 [==============================] - 6s 13ms/step - loss: 0.0937\n",
            "Epoch 13/25\n",
            "468/468 [==============================] - 6s 13ms/step - loss: 0.0936\n",
            "Epoch 14/25\n",
            "468/468 [==============================] - 6s 14ms/step - loss: 0.0935\n",
            "Epoch 15/25\n",
            "468/468 [==============================] - 6s 13ms/step - loss: 0.0934\n",
            "Epoch 16/25\n",
            "468/468 [==============================] - 6s 14ms/step - loss: 0.0933\n",
            "Epoch 17/25\n",
            "468/468 [==============================] - 6s 14ms/step - loss: 0.0933\n",
            "Epoch 18/25\n",
            "468/468 [==============================] - 6s 13ms/step - loss: 0.0932\n",
            "Epoch 19/25\n",
            "468/468 [==============================] - 6s 13ms/step - loss: 0.0932\n",
            "Epoch 20/25\n",
            "468/468 [==============================] - 6s 13ms/step - loss: 0.0931\n",
            "Epoch 21/25\n",
            "468/468 [==============================] - 6s 13ms/step - loss: 0.0931\n",
            "Epoch 22/25\n",
            "468/468 [==============================] - 6s 13ms/step - loss: 0.0931\n",
            "Epoch 23/25\n",
            "468/468 [==============================] - 6s 13ms/step - loss: 0.0930\n",
            "Epoch 24/25\n",
            "468/468 [==============================] - 6s 13ms/step - loss: 0.0930\n",
            "Epoch 25/25\n",
            "468/468 [==============================] - 6s 13ms/step - loss: 0.0930\n"
          ]
        }
      ]
    },
    {
      "cell_type": "code",
      "source": [
        "def display_one_row(disp_images, offset, shape=(28, 28)):\n",
        "  \"\"\"Display sample outputs in one row.\"\"\"\n",
        "  for idx, test_image in enumerate(disp_images):\n",
        "    plt.subplot(3, 10, offset + idx + 1)\n",
        "    plt.xticks([])\n",
        "    plt.yticks([])\n",
        "    test_image = np.reshape(test_image, shape)\n",
        "    plt.imshow(test_image, cmap='gray')"
      ],
      "metadata": {
        "id": "qcFVodqoxgoQ"
      },
      "execution_count": 15,
      "outputs": []
    },
    {
      "cell_type": "code",
      "source": [
        "def display_results(disp_input_images, disp_encoded, disp_predicted, enc_shape=(8, 4)):\n",
        "  \"\"\"Display the input, encoded, and decoded output values.\"\"\"\n",
        "  plt.figure(figsize=(15, 5))\n",
        "  display_one_row(disp_input_images, 0, shape=(28, 28,))\n",
        "  display_one_row(disp_encoded, 10, shape=enc_shape)\n",
        "  display_one_row(disp_predicted, 20, shape=(28, 28,))"
      ],
      "metadata": {
        "id": "sQPTXRbAzPCp"
      },
      "execution_count": 16,
      "outputs": []
    },
    {
      "cell_type": "code",
      "source": [
        "# take 1 batch of the dataset\n",
        "test_dataset = test_dataset.take(1)\n",
        "\n",
        "# take the input images and put them in a list\n",
        "output_samples = []\n",
        "for input_image, image in tfds.as_numpy(test_dataset):\n",
        "      output_samples = input_image\n",
        "\n",
        "# pick 10 random numbers to be used as indices to the list above\n",
        "idxs = np.random.choice(BATCH_SIZE, size=10)\n",
        "\n",
        "# get the encoder output\n",
        "encoded_predicted = encoder_model.predict(test_dataset)\n",
        "\n",
        "# get a prediction for the test batch\n",
        "simple_predicted = autoencoder_model.predict(test_dataset)\n",
        "\n",
        "# display the 10 samples, encodings and decoded values!\n",
        "display_results(output_samples[idxs], encoded_predicted[idxs], simple_predicted[idxs])"
      ],
      "metadata": {
        "colab": {
          "base_uri": "https://localhost:8080/",
          "height": 297
        },
        "id": "6Pb0cayXzTZQ",
        "outputId": "b3de7678-34d9-4fc9-bc0f-ea5ce9ad5830"
      },
      "execution_count": 17,
      "outputs": [
        {
          "output_type": "display_data",
          "data": {
            "text/plain": [
              "<Figure size 1080x360 with 30 Axes>"
            ],
            "image/png": "[encoded data removed]"
          },
          "metadata": {}
        }
      ]
    },
    {
      "cell_type": "code",
      "source": [],
      "metadata": {
        "id": "lY2g-DCXzevm"
      },
      "execution_count": null,
      "outputs": []
    }
  ]
}